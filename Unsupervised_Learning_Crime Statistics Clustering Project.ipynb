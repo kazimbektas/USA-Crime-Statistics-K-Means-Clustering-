{
 "cells": [
  {
   "cell_type": "markdown",
   "id": "56dde3fe-a94f-46d8-8f79-d2e05b7d151d",
   "metadata": {},
   "source": [
    "# K-MEANS"
   ]
  },
  {
   "cell_type": "code",
   "execution_count": 1,
   "id": "c326ff17-7f65-443a-9447-eb503634336e",
   "metadata": {},
   "outputs": [
    {
     "name": "stdout",
     "output_type": "stream",
     "text": [
      "Requirement already satisfied: yellowbrick in c:\\users\\kazim bektas\\anaconda3\\lib\\site-packages (1.5)\n",
      "Requirement already satisfied: matplotlib!=3.0.0,>=2.0.2 in c:\\users\\kazim bektas\\anaconda3\\lib\\site-packages (from yellowbrick) (3.8.4)\n",
      "Requirement already satisfied: scipy>=1.0.0 in c:\\users\\kazim bektas\\anaconda3\\lib\\site-packages (from yellowbrick) (1.13.1)\n",
      "Requirement already satisfied: scikit-learn>=1.0.0 in c:\\users\\kazim bektas\\anaconda3\\lib\\site-packages (from yellowbrick) (1.5.0)\n",
      "Requirement already satisfied: numpy>=1.16.0 in c:\\users\\kazim bektas\\anaconda3\\lib\\site-packages (from yellowbrick) (1.26.4)\n",
      "Requirement already satisfied: cycler>=0.10.0 in c:\\users\\kazim bektas\\anaconda3\\lib\\site-packages (from yellowbrick) (0.11.0)\n",
      "Requirement already satisfied: contourpy>=1.0.1 in c:\\users\\kazim bektas\\anaconda3\\lib\\site-packages (from matplotlib!=3.0.0,>=2.0.2->yellowbrick) (1.2.0)\n",
      "Requirement already satisfied: fonttools>=4.22.0 in c:\\users\\kazim bektas\\anaconda3\\lib\\site-packages (from matplotlib!=3.0.0,>=2.0.2->yellowbrick) (4.51.0)\n",
      "Requirement already satisfied: kiwisolver>=1.3.1 in c:\\users\\kazim bektas\\anaconda3\\lib\\site-packages (from matplotlib!=3.0.0,>=2.0.2->yellowbrick) (1.4.4)\n",
      "Requirement already satisfied: packaging>=20.0 in c:\\users\\kazim bektas\\anaconda3\\lib\\site-packages (from matplotlib!=3.0.0,>=2.0.2->yellowbrick) (23.2)\n",
      "Requirement already satisfied: pillow>=8 in c:\\users\\kazim bektas\\anaconda3\\lib\\site-packages (from matplotlib!=3.0.0,>=2.0.2->yellowbrick) (10.3.0)\n",
      "Requirement already satisfied: pyparsing>=2.3.1 in c:\\users\\kazim bektas\\anaconda3\\lib\\site-packages (from matplotlib!=3.0.0,>=2.0.2->yellowbrick) (3.0.9)\n",
      "Requirement already satisfied: python-dateutil>=2.7 in c:\\users\\kazim bektas\\anaconda3\\lib\\site-packages (from matplotlib!=3.0.0,>=2.0.2->yellowbrick) (2.9.0.post0)\n",
      "Requirement already satisfied: joblib>=1.2.0 in c:\\users\\kazim bektas\\anaconda3\\lib\\site-packages (from scikit-learn>=1.0.0->yellowbrick) (1.4.2)\n",
      "Requirement already satisfied: threadpoolctl>=3.1.0 in c:\\users\\kazim bektas\\anaconda3\\lib\\site-packages (from scikit-learn>=1.0.0->yellowbrick) (3.5.0)\n",
      "Requirement already satisfied: six>=1.5 in c:\\users\\kazim bektas\\anaconda3\\lib\\site-packages (from python-dateutil>=2.7->matplotlib!=3.0.0,>=2.0.2->yellowbrick) (1.16.0)\n"
     ]
    }
   ],
   "source": [
    "! pip install yellowbrick\n",
    "\n",
    "import numpy as np\n",
    "import pandas as pd\n",
    "import random\n",
    "import matplotlib.pyplot as plt\n",
    "from sklearn.cluster import KMeans\n",
    "from sklearn.preprocessing import MinMaxScaler\n",
    "from yellowbrick.cluster import KElbowVisualizer\n",
    "from scipy.cluster.hierarchy import linkage\n",
    "from scipy.cluster.hierarchy import dendrogram\n",
    "from sklearn.preprocessing import StandardScaler\n",
    "from sklearn.decomposition import PCA\n",
    "from sklearn.model_selection import cross_val_score, GridSearchCV\n",
    "from sklearn.preprocessing import LabelEncoder\n",
    "from sklearn.cluster import AgglomerativeClustering\n",
    "\n",
    "from sklearn.linear_model import LinearRegression\n",
    "from sklearn.tree import DecisionTreeRegressor\n",
    "\n",
    "import os\n",
    "os.environ[\"OMP_NUM_THREADS\"] = \"1\""
   ]
  },
  {
   "cell_type": "markdown",
   "id": "c0e8163c-eeed-42f9-854e-94bae5619af3",
   "metadata": {},
   "source": [
    "# Crime Statistics Clustering Project\n",
    "\n",
    "## 1. Business Problem\n",
    "\n",
    "The objective of this project is to segment U.S. states into different clusters based on their crime statistics. By clustering the states according to various crime metrics, law enforcement agencies, policymakers, and researchers can better understand crime patterns and tailor crime prevention strategies for each cluster.\n",
    "\n",
    "### Task:\n",
    "The main task is to apply **clustering algorithms** to classify the U.S. states into groups based on their crime statistics, which include **Murder rate**, **Assault rate**, **Urban Population percentage**, and **Rape rate**.\n",
    "\n",
    "## 2. Dataset Story\n",
    "\n",
    "The dataset consists of crime statistics for various U.S. states. The variables represent different types of crimes and population-related metrics. The data includes murder and assault rates, the percentage of the urban population, and the rape rate for each state.\n",
    "\n",
    "### 2.1 Variables:\n",
    "- **Murder**: The number of murders.\n",
    "- **Assault**: The number of assaults.\n",
    "- **UrbanPop**: The percentage of the state's population living in urban areas.\n",
    "- **Rape**: The number of rapes."
   ]
  },
  {
   "cell_type": "code",
   "execution_count": 2,
   "id": "6dd52346-2cba-4cd0-bd70-9fb810380d49",
   "metadata": {},
   "outputs": [
    {
     "data": {
      "text/html": [
       "<div>\n",
       "<style scoped>\n",
       "    .dataframe tbody tr th:only-of-type {\n",
       "        vertical-align: middle;\n",
       "    }\n",
       "\n",
       "    .dataframe tbody tr th {\n",
       "        vertical-align: top;\n",
       "    }\n",
       "\n",
       "    .dataframe thead th {\n",
       "        text-align: right;\n",
       "    }\n",
       "</style>\n",
       "<table border=\"1\" class=\"dataframe\">\n",
       "  <thead>\n",
       "    <tr style=\"text-align: right;\">\n",
       "      <th></th>\n",
       "      <th>Murder</th>\n",
       "      <th>Assault</th>\n",
       "      <th>UrbanPop</th>\n",
       "      <th>Rape</th>\n",
       "    </tr>\n",
       "  </thead>\n",
       "  <tbody>\n",
       "    <tr>\n",
       "      <th>Alabama</th>\n",
       "      <td>13.2</td>\n",
       "      <td>236</td>\n",
       "      <td>58</td>\n",
       "      <td>21.2</td>\n",
       "    </tr>\n",
       "    <tr>\n",
       "      <th>Alaska</th>\n",
       "      <td>10.0</td>\n",
       "      <td>263</td>\n",
       "      <td>48</td>\n",
       "      <td>44.5</td>\n",
       "    </tr>\n",
       "    <tr>\n",
       "      <th>Arizona</th>\n",
       "      <td>8.1</td>\n",
       "      <td>294</td>\n",
       "      <td>80</td>\n",
       "      <td>31.0</td>\n",
       "    </tr>\n",
       "    <tr>\n",
       "      <th>Arkansas</th>\n",
       "      <td>8.8</td>\n",
       "      <td>190</td>\n",
       "      <td>50</td>\n",
       "      <td>19.5</td>\n",
       "    </tr>\n",
       "    <tr>\n",
       "      <th>California</th>\n",
       "      <td>9.0</td>\n",
       "      <td>276</td>\n",
       "      <td>91</td>\n",
       "      <td>40.6</td>\n",
       "    </tr>\n",
       "  </tbody>\n",
       "</table>\n",
       "</div>"
      ],
      "text/plain": [
       "            Murder  Assault  UrbanPop  Rape\n",
       "Alabama       13.2      236        58  21.2\n",
       "Alaska        10.0      263        48  44.5\n",
       "Arizona        8.1      294        80  31.0\n",
       "Arkansas       8.8      190        50  19.5\n",
       "California     9.0      276        91  40.6"
      ]
     },
     "execution_count": 2,
     "metadata": {},
     "output_type": "execute_result"
    }
   ],
   "source": [
    "df = pd.read_csv(\"datasets/USArrests.csv\", index_col=0)\n",
    "\n",
    "df.head()"
   ]
  },
  {
   "cell_type": "code",
   "execution_count": 3,
   "id": "53bc7917-79d2-4c03-b179-4263ceb7119b",
   "metadata": {},
   "outputs": [
    {
     "data": {
      "text/plain": [
       "Murder      0\n",
       "Assault     0\n",
       "UrbanPop    0\n",
       "Rape        0\n",
       "dtype: int64"
      ]
     },
     "execution_count": 3,
     "metadata": {},
     "output_type": "execute_result"
    }
   ],
   "source": [
    "df.isnull().sum()"
   ]
  },
  {
   "cell_type": "code",
   "execution_count": 4,
   "id": "09ded799-406d-43ae-9ef4-24a648f95cec",
   "metadata": {},
   "outputs": [
    {
     "name": "stdout",
     "output_type": "stream",
     "text": [
      "<class 'pandas.core.frame.DataFrame'>\n",
      "Index: 50 entries, Alabama to Wyoming\n",
      "Data columns (total 4 columns):\n",
      " #   Column    Non-Null Count  Dtype  \n",
      "---  ------    --------------  -----  \n",
      " 0   Murder    50 non-null     float64\n",
      " 1   Assault   50 non-null     int64  \n",
      " 2   UrbanPop  50 non-null     int64  \n",
      " 3   Rape      50 non-null     float64\n",
      "dtypes: float64(2), int64(2)\n",
      "memory usage: 2.0+ KB\n"
     ]
    }
   ],
   "source": [
    "df.info()"
   ]
  },
  {
   "cell_type": "code",
   "execution_count": 5,
   "id": "0c5775b3-92f5-403e-babc-1f8638741939",
   "metadata": {},
   "outputs": [
    {
     "data": {
      "text/html": [
       "<div>\n",
       "<style scoped>\n",
       "    .dataframe tbody tr th:only-of-type {\n",
       "        vertical-align: middle;\n",
       "    }\n",
       "\n",
       "    .dataframe tbody tr th {\n",
       "        vertical-align: top;\n",
       "    }\n",
       "\n",
       "    .dataframe thead th {\n",
       "        text-align: right;\n",
       "    }\n",
       "</style>\n",
       "<table border=\"1\" class=\"dataframe\">\n",
       "  <thead>\n",
       "    <tr style=\"text-align: right;\">\n",
       "      <th></th>\n",
       "      <th>Murder</th>\n",
       "      <th>Assault</th>\n",
       "      <th>UrbanPop</th>\n",
       "      <th>Rape</th>\n",
       "    </tr>\n",
       "  </thead>\n",
       "  <tbody>\n",
       "    <tr>\n",
       "      <th>count</th>\n",
       "      <td>50.00000</td>\n",
       "      <td>50.000000</td>\n",
       "      <td>50.000000</td>\n",
       "      <td>50.000000</td>\n",
       "    </tr>\n",
       "    <tr>\n",
       "      <th>mean</th>\n",
       "      <td>7.78800</td>\n",
       "      <td>170.760000</td>\n",
       "      <td>65.540000</td>\n",
       "      <td>21.232000</td>\n",
       "    </tr>\n",
       "    <tr>\n",
       "      <th>std</th>\n",
       "      <td>4.35551</td>\n",
       "      <td>83.337661</td>\n",
       "      <td>14.474763</td>\n",
       "      <td>9.366385</td>\n",
       "    </tr>\n",
       "    <tr>\n",
       "      <th>min</th>\n",
       "      <td>0.80000</td>\n",
       "      <td>45.000000</td>\n",
       "      <td>32.000000</td>\n",
       "      <td>7.300000</td>\n",
       "    </tr>\n",
       "    <tr>\n",
       "      <th>25%</th>\n",
       "      <td>4.07500</td>\n",
       "      <td>109.000000</td>\n",
       "      <td>54.500000</td>\n",
       "      <td>15.075000</td>\n",
       "    </tr>\n",
       "    <tr>\n",
       "      <th>50%</th>\n",
       "      <td>7.25000</td>\n",
       "      <td>159.000000</td>\n",
       "      <td>66.000000</td>\n",
       "      <td>20.100000</td>\n",
       "    </tr>\n",
       "    <tr>\n",
       "      <th>75%</th>\n",
       "      <td>11.25000</td>\n",
       "      <td>249.000000</td>\n",
       "      <td>77.750000</td>\n",
       "      <td>26.175000</td>\n",
       "    </tr>\n",
       "    <tr>\n",
       "      <th>max</th>\n",
       "      <td>17.40000</td>\n",
       "      <td>337.000000</td>\n",
       "      <td>91.000000</td>\n",
       "      <td>46.000000</td>\n",
       "    </tr>\n",
       "  </tbody>\n",
       "</table>\n",
       "</div>"
      ],
      "text/plain": [
       "         Murder     Assault   UrbanPop       Rape\n",
       "count  50.00000   50.000000  50.000000  50.000000\n",
       "mean    7.78800  170.760000  65.540000  21.232000\n",
       "std     4.35551   83.337661  14.474763   9.366385\n",
       "min     0.80000   45.000000  32.000000   7.300000\n",
       "25%     4.07500  109.000000  54.500000  15.075000\n",
       "50%     7.25000  159.000000  66.000000  20.100000\n",
       "75%    11.25000  249.000000  77.750000  26.175000\n",
       "max    17.40000  337.000000  91.000000  46.000000"
      ]
     },
     "execution_count": 5,
     "metadata": {},
     "output_type": "execute_result"
    }
   ],
   "source": [
    "df.describe()"
   ]
  },
  {
   "cell_type": "markdown",
   "id": "0700b883-7197-4eb1-a54a-3f2754247c06",
   "metadata": {},
   "source": [
    "**NOT** It is important to standardize the variables when using distance-based and gradient descent-based methods. Here, I will also perform a standardization process."
   ]
  },
  {
   "cell_type": "code",
   "execution_count": 6,
   "id": "bba0ec61-6b28-444a-94eb-bcfdbbe0caad",
   "metadata": {},
   "outputs": [],
   "source": [
    "## Standardization\n",
    "\n",
    "sc = MinMaxScaler((0, 1))\n",
    "df = sc.fit_transform(df)"
   ]
  },
  {
   "cell_type": "code",
   "execution_count": 7,
   "id": "e8c44523-62a8-4466-a615-b96e6272b3d6",
   "metadata": {},
   "outputs": [
    {
     "data": {
      "text/plain": [
       "array([[0.74698795, 0.65410959, 0.44067797, 0.35917313],\n",
       "       [0.55421687, 0.74657534, 0.27118644, 0.96124031],\n",
       "       [0.43975904, 0.85273973, 0.81355932, 0.6124031 ],\n",
       "       [0.48192771, 0.49657534, 0.30508475, 0.31524548],\n",
       "       [0.4939759 , 0.79109589, 1.        , 0.86046512]])"
      ]
     },
     "execution_count": 7,
     "metadata": {},
     "output_type": "execute_result"
    }
   ],
   "source": [
    "## Let's examine these observation units. fit_transform transforms them into a numpy array.\n",
    "\n",
    "df[0:5]"
   ]
  },
  {
   "cell_type": "code",
   "execution_count": 8,
   "id": "97ea09de-efc2-4b9e-b129-818ce9dbd410",
   "metadata": {},
   "outputs": [],
   "source": [
    "# The process of establishing the model, but there is no dependent variable here.\n",
    "\n",
    "kmeans = KMeans(n_clusters=4, random_state=17).fit(df)"
   ]
  },
  {
   "cell_type": "code",
   "execution_count": 9,
   "id": "b5e1c791-e0bf-4d5a-a3e4-3d27dd2a2a3e",
   "metadata": {},
   "outputs": [
    {
     "data": {
      "text/plain": [
       "{'algorithm': 'lloyd',\n",
       " 'copy_x': True,\n",
       " 'init': 'k-means++',\n",
       " 'max_iter': 300,\n",
       " 'n_clusters': 4,\n",
       " 'n_init': 'auto',\n",
       " 'random_state': 17,\n",
       " 'tol': 0.0001,\n",
       " 'verbose': 0}"
      ]
     },
     "execution_count": 9,
     "metadata": {},
     "output_type": "execute_result"
    }
   ],
   "source": [
    "## Let's look at the hyperparameters in the model.\n",
    "\n",
    "kmeans.get_params()"
   ]
  },
  {
   "cell_type": "markdown",
   "id": "399f7b3f-3a56-4a9d-87f6-bbb1fa429196",
   "metadata": {},
   "source": [
    "**n_clusters** is a parameter that can be determined."
   ]
  },
  {
   "cell_type": "code",
   "execution_count": 10,
   "id": "6a316e6e-1301-4dfd-9938-75389978ba7b",
   "metadata": {},
   "outputs": [
    {
     "data": {
      "text/plain": [
       "4"
      ]
     },
     "execution_count": 10,
     "metadata": {},
     "output_type": "execute_result"
    }
   ],
   "source": [
    "# Observation of cluster number\n",
    "\n",
    "kmeans.n_clusters"
   ]
  },
  {
   "cell_type": "code",
   "execution_count": 11,
   "id": "66213835-3d62-4a7b-81bb-88660b5a0887",
   "metadata": {},
   "outputs": [
    {
     "data": {
      "text/plain": [
       "array([[0.1686747 , 0.11485774, 0.34028683, 0.12601868],\n",
       "       [0.6124498 , 0.75      , 0.75423729, 0.67980189],\n",
       "       [0.30439405, 0.32937147, 0.70588235, 0.31098951],\n",
       "       [0.79141566, 0.6802226 , 0.36864407, 0.36466408]])"
      ]
     },
     "execution_count": 11,
     "metadata": {},
     "output_type": "execute_result"
    }
   ],
   "source": [
    "# Let's look at the centers of the clusters.\n",
    "\n",
    "kmeans.cluster_centers_"
   ]
  },
  {
   "cell_type": "markdown",
   "id": "c26d98c7-863f-42a8-bc3d-e8861045b9b0",
   "metadata": {},
   "source": [
    "These are the standardized centers of the four clusters that were finally determined."
   ]
  },
  {
   "cell_type": "code",
   "execution_count": 12,
   "id": "72ac69e3-8b93-4876-97d3-05538f885228",
   "metadata": {},
   "outputs": [
    {
     "data": {
      "text/plain": [
       "array([3, 1, 1, 3, 1, 1, 2, 2, 1, 3, 2, 0, 1, 2, 0, 2, 0, 3, 0, 1, 2, 1,\n",
       "       0, 3, 2, 0, 0, 1, 0, 2, 1, 1, 3, 0, 2, 2, 2, 2, 2, 3, 0, 3, 1, 2,\n",
       "       0, 2, 2, 0, 0, 2])"
      ]
     },
     "execution_count": 12,
     "metadata": {},
     "output_type": "execute_result"
    }
   ],
   "source": [
    "# Specified set of labels..4 labels from 0 to 3.\n",
    "\n",
    "kmeans.labels_"
   ]
  },
  {
   "cell_type": "markdown",
   "id": "0b6d2eb2-c3f6-497c-a68c-b6803ebdb855",
   "metadata": {},
   "source": [
    "These are the clusters determined by K means for each observation in the data set."
   ]
  },
  {
   "cell_type": "code",
   "execution_count": 13,
   "id": "aa790549-e631-4348-a557-bfd842fe1f32",
   "metadata": {},
   "outputs": [
    {
     "data": {
      "text/plain": [
       "3.683456153585914"
      ]
     },
     "execution_count": 13,
     "metadata": {},
     "output_type": "execute_result"
    }
   ],
   "source": [
    "## Sum of squared distances of samples to their closest center. ssd, sse, ssr \n",
    "\n",
    "kmeans.inertia_"
   ]
  },
  {
   "cell_type": "markdown",
   "id": "d941eb94-500d-4f56-b115-92abf922f2c1",
   "metadata": {},
   "source": [
    "**# Determining the Optimum Number of Clusters**"
   ]
  },
  {
   "cell_type": "code",
   "execution_count": 14,
   "id": "0fe91065-51c2-45b8-85f2-2c793d77347f",
   "metadata": {},
   "outputs": [],
   "source": [
    "## Creating an empty k means object\n",
    "\n",
    "kmeans = KMeans()\n",
    "\n",
    "# Creating an empty ssd list\n",
    "\n",
    "ssd = []\n",
    "\n",
    "# Creating Ks from 1 to 30\n",
    "\n",
    "K = range(1, 30)\n",
    "\n",
    "\n",
    "for k in K:\n",
    "    kmeans = KMeans(n_clusters=k).fit(df)\n",
    "    ssd.append(kmeans.inertia_)"
   ]
  },
  {
   "cell_type": "code",
   "execution_count": 15,
   "id": "b8d2379b-faa5-4f3e-a729-5b55bb4cffb5",
   "metadata": {},
   "outputs": [
    {
     "data": {
      "text/plain": [
       "[13.184122550256447,\n",
       " 6.596893867946197,\n",
       " 5.3342598068602625,\n",
       " 3.690820410392111,\n",
       " 3.2557728880989525,\n",
       " 3.027858565907529,\n",
       " 2.7307933836555773,\n",
       " 2.2699587099964367,\n",
       " 2.2646304852511707,\n",
       " 2.023548543521919,\n",
       " 2.0122350985617246,\n",
       " 1.667635953521029,\n",
       " 1.5192503961363302,\n",
       " 1.4712775685192838,\n",
       " 1.3184396669761194,\n",
       " 1.3424631423314517,\n",
       " 1.248003238436154,\n",
       " 1.0929624714404607,\n",
       " 1.02444781521262,\n",
       " 0.9684216758836126,\n",
       " 0.9480321996981502,\n",
       " 0.7716217292667313,\n",
       " 0.7488548663420144,\n",
       " 0.698420055176311,\n",
       " 0.6345985231614887,\n",
       " 0.573446619231118,\n",
       " 0.49991225475694334,\n",
       " 0.4349178038913993,\n",
       " 0.4337139135318261]"
      ]
     },
     "execution_count": 15,
     "metadata": {},
     "output_type": "execute_result"
    }
   ],
   "source": [
    "ssd"
   ]
  },
  {
   "cell_type": "code",
   "execution_count": 16,
   "id": "b12ad310-9c56-41a5-9e9e-816912bbcdf6",
   "metadata": {},
   "outputs": [
    {
     "data": {
      "image/png": "[encoded data removed]",
      "text/plain": [
       "<Figure size 800x550 with 1 Axes>"
      ]
     },
     "metadata": {},
     "output_type": "display_data"
    }
   ],
   "source": [
    "## Let's create a visual to understand these values. Distance residual sums for different K values\n",
    "# Let's write sse instead of the distance residual sums.\n",
    "\n",
    "plt.plot(K, ssd, \"bx-\")\n",
    "plt.xlabel(\"Corresponding to Different K Values SSE/SSR/SSD\")\n",
    "plt.title(\"Elbow Method for Optimum Number of Clusters\")\n",
    "plt.show()"
   ]
  },
  {
   "cell_type": "markdown",
   "id": "c9c8acf7-3690-41af-82f0-7734f5204f4d",
   "metadata": {},
   "source": [
    "Kume sayisi arttikca SSD,SSE ,SSR degeri dusumus. 10,15 yapilabilir.\n",
    "\n",
    "**What happens when there are as many clusters as observation units?**  It will be 0 because all observation units will be a cluster. Therefore, we expect the error to decrease as the number of clusters increases.\n",
    "\n",
    "**ATTENTION** When clustering methods such as the K-Means method and the hierarchical clustering method are used, the operation is not performed by directly looking at the cluster numbers according to SSE, according to the mathematical references given to us by the algorithm. We need to include business information."
   ]
  },
  {
   "cell_type": "code",
   "execution_count": 17,
   "id": "1aaeea4c-8198-4497-a36d-410581e5b8a3",
   "metadata": {},
   "outputs": [
    {
     "data": {
      "image/png": "[encoded data removed]",
      "text/plain": [
       "<Figure size 800x550 with 2 Axes>"
      ]
     },
     "metadata": {},
     "output_type": "display_data"
    },
    {
     "data": {
      "text/plain": [
       "<Axes: title={'center': 'Distortion Score Elbow for KMeans Clustering'}, xlabel='k', ylabel='distortion score'>"
      ]
     },
     "execution_count": 17,
     "metadata": {},
     "output_type": "execute_result"
    }
   ],
   "source": [
    "# Automatic determination of optimum cluster number according to Elbow Method.\n",
    "\n",
    "kmeans = KMeans()\n",
    "elbow = KElbowVisualizer(kmeans, k=(2, 20))\n",
    "elbow.fit(df)\n",
    "elbow.show()"
   ]
  },
  {
   "cell_type": "code",
   "execution_count": 18,
   "id": "f6edcccd-9638-41a1-8b17-8c597ec71132",
   "metadata": {},
   "outputs": [
    {
     "data": {
      "text/plain": [
       "8"
      ]
     },
     "execution_count": 18,
     "metadata": {},
     "output_type": "execute_result"
    }
   ],
   "source": [
    "elbow.elbow_value_"
   ]
  },
  {
   "cell_type": "markdown",
   "id": "f35bcbb7-e02f-4e62-b619-27f5fbfe83b9",
   "metadata": {},
   "source": [
    "**Creating Final Clusters**"
   ]
  },
  {
   "cell_type": "code",
   "execution_count": 19,
   "id": "327067a0-b94c-4602-bd0c-712875c2cbe5",
   "metadata": {},
   "outputs": [],
   "source": [
    "# LET'S CREATE OUR MODEL ACCORDING TO ELBOW VALUE\n",
    "\n",
    "kmeans = KMeans(n_clusters=elbow.elbow_value_).fit(df)"
   ]
  },
  {
   "cell_type": "code",
   "execution_count": 20,
   "id": "3e681c8f-a128-456b-b38e-c2e59c570c13",
   "metadata": {},
   "outputs": [
    {
     "data": {
      "text/plain": [
       "8"
      ]
     },
     "execution_count": 20,
     "metadata": {},
     "output_type": "execute_result"
    }
   ],
   "source": [
    "kmeans.n_clusters"
   ]
  },
  {
   "cell_type": "code",
   "execution_count": 21,
   "id": "3491b7ee-20d1-49eb-9456-8ef63e2de074",
   "metadata": {},
   "outputs": [
    {
     "data": {
      "text/plain": [
       "array([[0.11325301, 0.0859589 , 0.3220339 , 0.09328165],\n",
       "       [0.83562823, 0.70645793, 0.37772397, 0.37172388],\n",
       "       [0.38955823, 0.46347032, 0.67231638, 0.63996555],\n",
       "       [0.25033467, 0.27549467, 0.81544256, 0.27103072],\n",
       "       [0.67710843, 0.83082192, 0.60677966, 0.69715762],\n",
       "       [0.37228916, 0.34041096, 0.49322034, 0.27596899],\n",
       "       [0.59036145, 0.75      , 0.91525424, 0.93023256],\n",
       "       [0.58885542, 0.70034247, 0.85169492, 0.5       ]])"
      ]
     },
     "execution_count": 21,
     "metadata": {},
     "output_type": "execute_result"
    }
   ],
   "source": [
    "kmeans.cluster_centers_"
   ]
  },
  {
   "cell_type": "code",
   "execution_count": 22,
   "id": "b5684567-816b-49e7-9310-10759cbf7ddb",
   "metadata": {},
   "outputs": [
    {
     "data": {
      "text/plain": [
       "array([1, 4, 7, 5, 6, 2, 3, 5, 4, 1, 3, 0, 7, 5, 0, 5, 5, 1, 0, 4, 3, 4,\n",
       "       0, 1, 2, 5, 5, 6, 0, 3, 4, 7, 1, 0, 3, 5, 2, 3, 3, 1, 0, 1, 7, 3,\n",
       "       0, 5, 3, 0, 0, 5])"
      ]
     },
     "execution_count": 22,
     "metadata": {},
     "output_type": "execute_result"
    }
   ],
   "source": [
    "kmeans.labels_"
   ]
  },
  {
   "cell_type": "code",
   "execution_count": 23,
   "id": "7d53be86-47da-4471-aacb-2f75303ac77b",
   "metadata": {},
   "outputs": [
    {
     "data": {
      "text/plain": [
       "array([[0.74698795, 0.65410959, 0.44067797, 0.35917313],\n",
       "       [0.55421687, 0.74657534, 0.27118644, 0.96124031],\n",
       "       [0.43975904, 0.85273973, 0.81355932, 0.6124031 ],\n",
       "       [0.48192771, 0.49657534, 0.30508475, 0.31524548],\n",
       "       [0.4939759 , 0.79109589, 1.        , 0.86046512]])"
      ]
     },
     "execution_count": 23,
     "metadata": {},
     "output_type": "execute_result"
    }
   ],
   "source": [
    "df[0:5]"
   ]
  },
  {
   "cell_type": "code",
   "execution_count": 24,
   "id": "7689120f-102e-4058-b36b-c587088e932e",
   "metadata": {},
   "outputs": [],
   "source": [
    "## Created clusters, but we do not know which state is in which cluster. \n",
    "\n",
    "clusters_kmeans = kmeans.labels_"
   ]
  },
  {
   "cell_type": "code",
   "execution_count": 25,
   "id": "8f30d29f-258b-496b-a173-c7d1e9a8bf65",
   "metadata": {},
   "outputs": [],
   "source": [
    "## Let's IMPORT the dataframe from the beginning\n",
    "\n",
    "df = pd.read_csv(\"datasets/USArrests.csv\", index_col=0)"
   ]
  },
  {
   "cell_type": "code",
   "execution_count": 26,
   "id": "8b7cd2bf-efd7-42a0-945f-a06b87ecb867",
   "metadata": {},
   "outputs": [],
   "source": [
    "## Adding a new variable to Dataframe\n",
    "\n",
    "df[\"cluster\"] = clusters_kmeans"
   ]
  },
  {
   "cell_type": "code",
   "execution_count": 27,
   "id": "9ab4223f-fc97-40f9-b3a8-d6877ed19111",
   "metadata": {},
   "outputs": [
    {
     "data": {
      "text/html": [
       "<div>\n",
       "<style scoped>\n",
       "    .dataframe tbody tr th:only-of-type {\n",
       "        vertical-align: middle;\n",
       "    }\n",
       "\n",
       "    .dataframe tbody tr th {\n",
       "        vertical-align: top;\n",
       "    }\n",
       "\n",
       "    .dataframe thead th {\n",
       "        text-align: right;\n",
       "    }\n",
       "</style>\n",
       "<table border=\"1\" class=\"dataframe\">\n",
       "  <thead>\n",
       "    <tr style=\"text-align: right;\">\n",
       "      <th></th>\n",
       "      <th>Murder</th>\n",
       "      <th>Assault</th>\n",
       "      <th>UrbanPop</th>\n",
       "      <th>Rape</th>\n",
       "      <th>cluster</th>\n",
       "    </tr>\n",
       "  </thead>\n",
       "  <tbody>\n",
       "    <tr>\n",
       "      <th>Alabama</th>\n",
       "      <td>13.2</td>\n",
       "      <td>236</td>\n",
       "      <td>58</td>\n",
       "      <td>21.2</td>\n",
       "      <td>1</td>\n",
       "    </tr>\n",
       "    <tr>\n",
       "      <th>Alaska</th>\n",
       "      <td>10.0</td>\n",
       "      <td>263</td>\n",
       "      <td>48</td>\n",
       "      <td>44.5</td>\n",
       "      <td>4</td>\n",
       "    </tr>\n",
       "    <tr>\n",
       "      <th>Arizona</th>\n",
       "      <td>8.1</td>\n",
       "      <td>294</td>\n",
       "      <td>80</td>\n",
       "      <td>31.0</td>\n",
       "      <td>7</td>\n",
       "    </tr>\n",
       "    <tr>\n",
       "      <th>Arkansas</th>\n",
       "      <td>8.8</td>\n",
       "      <td>190</td>\n",
       "      <td>50</td>\n",
       "      <td>19.5</td>\n",
       "      <td>5</td>\n",
       "    </tr>\n",
       "    <tr>\n",
       "      <th>California</th>\n",
       "      <td>9.0</td>\n",
       "      <td>276</td>\n",
       "      <td>91</td>\n",
       "      <td>40.6</td>\n",
       "      <td>6</td>\n",
       "    </tr>\n",
       "  </tbody>\n",
       "</table>\n",
       "</div>"
      ],
      "text/plain": [
       "            Murder  Assault  UrbanPop  Rape  cluster\n",
       "Alabama       13.2      236        58  21.2        1\n",
       "Alaska        10.0      263        48  44.5        4\n",
       "Arizona        8.1      294        80  31.0        7\n",
       "Arkansas       8.8      190        50  19.5        5\n",
       "California     9.0      276        91  40.6        6"
      ]
     },
     "execution_count": 27,
     "metadata": {},
     "output_type": "execute_result"
    }
   ],
   "source": [
    "df.head()"
   ]
  },
  {
   "cell_type": "code",
   "execution_count": 28,
   "id": "cbb52573-ce61-4467-acf0-c1e52210a41e",
   "metadata": {},
   "outputs": [],
   "source": [
    "# Convert 0 cluster to 1\n",
    "\n",
    "df[\"cluster\"] = df[\"cluster\"] + 1"
   ]
  },
  {
   "cell_type": "code",
   "execution_count": 29,
   "id": "8c92acba-16c8-47a5-8052-86c50e1d8019",
   "metadata": {},
   "outputs": [
    {
     "data": {
      "text/html": [
       "<div>\n",
       "<style scoped>\n",
       "    .dataframe tbody tr th:only-of-type {\n",
       "        vertical-align: middle;\n",
       "    }\n",
       "\n",
       "    .dataframe tbody tr th {\n",
       "        vertical-align: top;\n",
       "    }\n",
       "\n",
       "    .dataframe thead th {\n",
       "        text-align: right;\n",
       "    }\n",
       "</style>\n",
       "<table border=\"1\" class=\"dataframe\">\n",
       "  <thead>\n",
       "    <tr style=\"text-align: right;\">\n",
       "      <th></th>\n",
       "      <th>Murder</th>\n",
       "      <th>Assault</th>\n",
       "      <th>UrbanPop</th>\n",
       "      <th>Rape</th>\n",
       "      <th>cluster</th>\n",
       "    </tr>\n",
       "  </thead>\n",
       "  <tbody>\n",
       "    <tr>\n",
       "      <th>Idaho</th>\n",
       "      <td>2.6</td>\n",
       "      <td>120</td>\n",
       "      <td>54</td>\n",
       "      <td>14.2</td>\n",
       "      <td>1</td>\n",
       "    </tr>\n",
       "    <tr>\n",
       "      <th>Iowa</th>\n",
       "      <td>2.2</td>\n",
       "      <td>56</td>\n",
       "      <td>57</td>\n",
       "      <td>11.3</td>\n",
       "      <td>1</td>\n",
       "    </tr>\n",
       "    <tr>\n",
       "      <th>Maine</th>\n",
       "      <td>2.1</td>\n",
       "      <td>83</td>\n",
       "      <td>51</td>\n",
       "      <td>7.8</td>\n",
       "      <td>1</td>\n",
       "    </tr>\n",
       "    <tr>\n",
       "      <th>Minnesota</th>\n",
       "      <td>2.7</td>\n",
       "      <td>72</td>\n",
       "      <td>66</td>\n",
       "      <td>14.9</td>\n",
       "      <td>1</td>\n",
       "    </tr>\n",
       "    <tr>\n",
       "      <th>New Hampshire</th>\n",
       "      <td>2.1</td>\n",
       "      <td>57</td>\n",
       "      <td>56</td>\n",
       "      <td>9.5</td>\n",
       "      <td>1</td>\n",
       "    </tr>\n",
       "    <tr>\n",
       "      <th>North Dakota</th>\n",
       "      <td>0.8</td>\n",
       "      <td>45</td>\n",
       "      <td>44</td>\n",
       "      <td>7.3</td>\n",
       "      <td>1</td>\n",
       "    </tr>\n",
       "    <tr>\n",
       "      <th>South Dakota</th>\n",
       "      <td>3.8</td>\n",
       "      <td>86</td>\n",
       "      <td>45</td>\n",
       "      <td>12.8</td>\n",
       "      <td>1</td>\n",
       "    </tr>\n",
       "    <tr>\n",
       "      <th>Vermont</th>\n",
       "      <td>2.2</td>\n",
       "      <td>48</td>\n",
       "      <td>32</td>\n",
       "      <td>11.2</td>\n",
       "      <td>1</td>\n",
       "    </tr>\n",
       "    <tr>\n",
       "      <th>West Virginia</th>\n",
       "      <td>5.7</td>\n",
       "      <td>81</td>\n",
       "      <td>39</td>\n",
       "      <td>9.3</td>\n",
       "      <td>1</td>\n",
       "    </tr>\n",
       "    <tr>\n",
       "      <th>Wisconsin</th>\n",
       "      <td>2.6</td>\n",
       "      <td>53</td>\n",
       "      <td>66</td>\n",
       "      <td>10.8</td>\n",
       "      <td>1</td>\n",
       "    </tr>\n",
       "  </tbody>\n",
       "</table>\n",
       "</div>"
      ],
      "text/plain": [
       "               Murder  Assault  UrbanPop  Rape  cluster\n",
       "Idaho             2.6      120        54  14.2        1\n",
       "Iowa              2.2       56        57  11.3        1\n",
       "Maine             2.1       83        51   7.8        1\n",
       "Minnesota         2.7       72        66  14.9        1\n",
       "New Hampshire     2.1       57        56   9.5        1\n",
       "North Dakota      0.8       45        44   7.3        1\n",
       "South Dakota      3.8       86        45  12.8        1\n",
       "Vermont           2.2       48        32  11.2        1\n",
       "West Virginia     5.7       81        39   9.3        1\n",
       "Wisconsin         2.6       53        66  10.8        1"
      ]
     },
     "execution_count": 29,
     "metadata": {},
     "output_type": "execute_result"
    }
   ],
   "source": [
    "# WHICH STATES ARE IN CLUSTER NUMBER 1?\n",
    "\n",
    "df[df[\"cluster\"]==1]"
   ]
  },
  {
   "cell_type": "code",
   "execution_count": 30,
   "id": "9de02389-b37c-4ceb-9eaf-25a0c0dc3663",
   "metadata": {},
   "outputs": [
    {
     "data": {
      "text/html": [
       "<div>\n",
       "<style scoped>\n",
       "    .dataframe tbody tr th:only-of-type {\n",
       "        vertical-align: middle;\n",
       "    }\n",
       "\n",
       "    .dataframe tbody tr th {\n",
       "        vertical-align: top;\n",
       "    }\n",
       "\n",
       "    .dataframe thead tr th {\n",
       "        text-align: left;\n",
       "    }\n",
       "\n",
       "    .dataframe thead tr:last-of-type th {\n",
       "        text-align: right;\n",
       "    }\n",
       "</style>\n",
       "<table border=\"1\" class=\"dataframe\">\n",
       "  <thead>\n",
       "    <tr>\n",
       "      <th></th>\n",
       "      <th colspan=\"3\" halign=\"left\">Murder</th>\n",
       "      <th colspan=\"3\" halign=\"left\">Assault</th>\n",
       "      <th colspan=\"3\" halign=\"left\">UrbanPop</th>\n",
       "      <th colspan=\"3\" halign=\"left\">Rape</th>\n",
       "    </tr>\n",
       "    <tr>\n",
       "      <th></th>\n",
       "      <th>count</th>\n",
       "      <th>mean</th>\n",
       "      <th>median</th>\n",
       "      <th>count</th>\n",
       "      <th>mean</th>\n",
       "      <th>median</th>\n",
       "      <th>count</th>\n",
       "      <th>mean</th>\n",
       "      <th>median</th>\n",
       "      <th>count</th>\n",
       "      <th>mean</th>\n",
       "      <th>median</th>\n",
       "    </tr>\n",
       "    <tr>\n",
       "      <th>cluster</th>\n",
       "      <th></th>\n",
       "      <th></th>\n",
       "      <th></th>\n",
       "      <th></th>\n",
       "      <th></th>\n",
       "      <th></th>\n",
       "      <th></th>\n",
       "      <th></th>\n",
       "      <th></th>\n",
       "      <th></th>\n",
       "      <th></th>\n",
       "      <th></th>\n",
       "    </tr>\n",
       "  </thead>\n",
       "  <tbody>\n",
       "    <tr>\n",
       "      <th>1</th>\n",
       "      <td>10</td>\n",
       "      <td>2.680000</td>\n",
       "      <td>2.40</td>\n",
       "      <td>10</td>\n",
       "      <td>70.100000</td>\n",
       "      <td>64.5</td>\n",
       "      <td>10</td>\n",
       "      <td>51.000000</td>\n",
       "      <td>52.5</td>\n",
       "      <td>10</td>\n",
       "      <td>10.910000</td>\n",
       "      <td>11.00</td>\n",
       "    </tr>\n",
       "    <tr>\n",
       "      <th>2</th>\n",
       "      <td>7</td>\n",
       "      <td>14.671429</td>\n",
       "      <td>14.40</td>\n",
       "      <td>7</td>\n",
       "      <td>251.285714</td>\n",
       "      <td>249.0</td>\n",
       "      <td>7</td>\n",
       "      <td>54.285714</td>\n",
       "      <td>58.0</td>\n",
       "      <td>7</td>\n",
       "      <td>21.685714</td>\n",
       "      <td>22.20</td>\n",
       "    </tr>\n",
       "    <tr>\n",
       "      <th>3</th>\n",
       "      <td>3</td>\n",
       "      <td>7.266667</td>\n",
       "      <td>7.90</td>\n",
       "      <td>3</td>\n",
       "      <td>180.333333</td>\n",
       "      <td>178.0</td>\n",
       "      <td>3</td>\n",
       "      <td>71.666667</td>\n",
       "      <td>70.0</td>\n",
       "      <td>3</td>\n",
       "      <td>32.066667</td>\n",
       "      <td>29.30</td>\n",
       "    </tr>\n",
       "    <tr>\n",
       "      <th>4</th>\n",
       "      <td>9</td>\n",
       "      <td>4.955556</td>\n",
       "      <td>4.40</td>\n",
       "      <td>9</td>\n",
       "      <td>125.444444</td>\n",
       "      <td>120.0</td>\n",
       "      <td>9</td>\n",
       "      <td>80.111111</td>\n",
       "      <td>80.0</td>\n",
       "      <td>9</td>\n",
       "      <td>17.788889</td>\n",
       "      <td>18.80</td>\n",
       "    </tr>\n",
       "    <tr>\n",
       "      <th>5</th>\n",
       "      <td>5</td>\n",
       "      <td>12.040000</td>\n",
       "      <td>11.40</td>\n",
       "      <td>5</td>\n",
       "      <td>287.600000</td>\n",
       "      <td>285.0</td>\n",
       "      <td>5</td>\n",
       "      <td>67.800000</td>\n",
       "      <td>70.0</td>\n",
       "      <td>5</td>\n",
       "      <td>34.280000</td>\n",
       "      <td>32.10</td>\n",
       "    </tr>\n",
       "    <tr>\n",
       "      <th>6</th>\n",
       "      <td>10</td>\n",
       "      <td>6.980000</td>\n",
       "      <td>6.70</td>\n",
       "      <td>10</td>\n",
       "      <td>144.400000</td>\n",
       "      <td>133.0</td>\n",
       "      <td>10</td>\n",
       "      <td>61.100000</td>\n",
       "      <td>62.5</td>\n",
       "      <td>10</td>\n",
       "      <td>17.980000</td>\n",
       "      <td>17.25</td>\n",
       "    </tr>\n",
       "    <tr>\n",
       "      <th>7</th>\n",
       "      <td>2</td>\n",
       "      <td>10.600000</td>\n",
       "      <td>10.60</td>\n",
       "      <td>2</td>\n",
       "      <td>264.000000</td>\n",
       "      <td>264.0</td>\n",
       "      <td>2</td>\n",
       "      <td>86.000000</td>\n",
       "      <td>86.0</td>\n",
       "      <td>2</td>\n",
       "      <td>43.300000</td>\n",
       "      <td>43.30</td>\n",
       "    </tr>\n",
       "    <tr>\n",
       "      <th>8</th>\n",
       "      <td>4</td>\n",
       "      <td>10.575000</td>\n",
       "      <td>10.75</td>\n",
       "      <td>4</td>\n",
       "      <td>249.500000</td>\n",
       "      <td>251.5</td>\n",
       "      <td>4</td>\n",
       "      <td>82.250000</td>\n",
       "      <td>81.5</td>\n",
       "      <td>4</td>\n",
       "      <td>26.650000</td>\n",
       "      <td>25.80</td>\n",
       "    </tr>\n",
       "  </tbody>\n",
       "</table>\n",
       "</div>"
      ],
      "text/plain": [
       "        Murder                   Assault                    UrbanPop  \\\n",
       "         count       mean median   count        mean median    count   \n",
       "cluster                                                                \n",
       "1           10   2.680000   2.40      10   70.100000   64.5       10   \n",
       "2            7  14.671429  14.40       7  251.285714  249.0        7   \n",
       "3            3   7.266667   7.90       3  180.333333  178.0        3   \n",
       "4            9   4.955556   4.40       9  125.444444  120.0        9   \n",
       "5            5  12.040000  11.40       5  287.600000  285.0        5   \n",
       "6           10   6.980000   6.70      10  144.400000  133.0       10   \n",
       "7            2  10.600000  10.60       2  264.000000  264.0        2   \n",
       "8            4  10.575000  10.75       4  249.500000  251.5        4   \n",
       "\n",
       "                           Rape                    \n",
       "              mean median count       mean median  \n",
       "cluster                                            \n",
       "1        51.000000   52.5    10  10.910000  11.00  \n",
       "2        54.285714   58.0     7  21.685714  22.20  \n",
       "3        71.666667   70.0     3  32.066667  29.30  \n",
       "4        80.111111   80.0     9  17.788889  18.80  \n",
       "5        67.800000   70.0     5  34.280000  32.10  \n",
       "6        61.100000   62.5    10  17.980000  17.25  \n",
       "7        86.000000   86.0     2  43.300000  43.30  \n",
       "8        82.250000   81.5     4  26.650000  25.80  "
      ]
     },
     "execution_count": 30,
     "metadata": {},
     "output_type": "execute_result"
    }
   ],
   "source": [
    "## IS THE POSITION UNIT IN EACH CLUSTER LOGICAL OR NOT?\n",
    "\n",
    "df.groupby(\"cluster\").agg([\"count\",\"mean\",\"median\"])"
   ]
  },
  {
   "cell_type": "code",
   "execution_count": 31,
   "id": "174f81a7-ec8f-4059-86a9-40939d0c3bd7",
   "metadata": {},
   "outputs": [],
   "source": [
    "## CREATING CSV FILE\n",
    "\n",
    "df.to_csv(\"clusters.csv\")"
   ]
  },
  {
   "cell_type": "markdown",
   "id": "77e57285-18fd-4483-b4f9-54ae78458606",
   "metadata": {},
   "source": [
    "# HIERARCHICAL CLUSTER ANALYSIS"
   ]
  },
  {
   "cell_type": "code",
   "execution_count": 32,
   "id": "2806789d-a664-4218-92d0-db9bdcaaf8de",
   "metadata": {},
   "outputs": [],
   "source": [
    "df = pd.read_csv(\"datasets/USArrests.csv\", index_col=0)\n",
    "\n",
    "sc = MinMaxScaler((0, 1))\n",
    "\n",
    "df = sc.fit_transform(df)"
   ]
  },
  {
   "cell_type": "code",
   "execution_count": 33,
   "id": "53c1b6a4-4979-4c6e-87f2-ef01df0907fe",
   "metadata": {},
   "outputs": [],
   "source": [
    "## LINKAGE METHOD--Perform hierarchical /agglomerative clustering\n",
    "\n",
    "hc_average = linkage(df, \"average\")"
   ]
  },
  {
   "cell_type": "code",
   "execution_count": 44,
   "id": "40847faf-d669-44a2-aff9-020b863c55b5",
   "metadata": {},
   "outputs": [
    {
     "data": {
      "image/png": "[encoded data removed]",
      "text/plain": [
       "<Figure size 1000x500 with 1 Axes>"
      ]
     },
     "metadata": {},
     "output_type": "display_data"
    }
   ],
   "source": [
    "# DENDONGRAM --diagram showing cluster structure\n",
    "\n",
    "plt.figure(figsize=(10, 5))\n",
    "plt.title(\"Hierarchical Clustering Dendogram\")\n",
    "plt.xlabel(\"Observation Units\")\n",
    "plt.ylabel(\"Distances\")\n",
    "dendrogram(hc_average,\n",
    "           leaf_font_size=10)\n",
    "plt.show()"
   ]
  },
  {
   "cell_type": "markdown",
   "id": "9ebbbdca-469a-49da-a42a-ddaa1debfd0d",
   "metadata": {},
   "source": [
    "You can decide how many clusters there will be by looking at this diagram."
   ]
  },
  {
   "cell_type": "code",
   "execution_count": 45,
   "id": "c7f3e88b-6576-4f2c-b7a8-c05c143f8a67",
   "metadata": {},
   "outputs": [
    {
     "data": {
      "image/png": "[encoded data removed]",
      "text/plain": [
       "<Figure size 700x500 with 1 Axes>"
      ]
     },
     "metadata": {},
     "output_type": "display_data"
    }
   ],
   "source": [
    "## If we want to adjust the clustering here, for example, let it be 10 clusters or 5 clusters.\n",
    "\n",
    "# Add arguments  truncate_mode=\"lastp\", p=10\n",
    "\n",
    "plt.figure(figsize=(7, 5))\n",
    "plt.title(\"Hierarchical Clustering Dendogram\")\n",
    "plt.xlabel(\"Observation Units\")\n",
    "plt.ylabel(\"Distances\")\n",
    "dendrogram(hc_average,\n",
    "           truncate_mode=\"lastp\",\n",
    "           p=10,\n",
    "           show_contracted=True,\n",
    "           leaf_font_size=10)\n",
    "plt.show()"
   ]
  },
  {
   "cell_type": "markdown",
   "id": "57c1f1ff-5c52-451d-8d11-e591f443f091",
   "metadata": {},
   "source": [
    "**Determining the Number of Clusters**"
   ]
  },
  {
   "cell_type": "code",
   "execution_count": 36,
   "id": "2979dc6f-7825-49af-933d-3acff0bf1e31",
   "metadata": {},
   "outputs": [
    {
     "data": {
      "image/png": "[encoded data removed]",
      "text/plain": [
       "<Figure size 700x500 with 1 Axes>"
      ]
     },
     "metadata": {},
     "output_type": "display_data"
    }
   ],
   "source": [
    "## Is there a way to draw this cluster programmatically?\n",
    "\n",
    "plt.figure(figsize=(7, 5))\n",
    "plt.title(\"Dendrograms\")\n",
    "dend = dendrogram(hc_average)\n",
    "plt.axhline(y=0.5, color='r', linestyle='--')\n",
    "plt.axhline(y=0.6, color='b', linestyle='--')\n",
    "plt.show()"
   ]
  },
  {
   "cell_type": "markdown",
   "id": "bce5aa16-995e-466c-98eb-a3d18e632208",
   "metadata": {},
   "source": [
    "**Creating the Final Model**"
   ]
  },
  {
   "cell_type": "code",
   "execution_count": 37,
   "id": "84e2a6cc-7d42-4ff7-b370-0e80d04738f7",
   "metadata": {},
   "outputs": [],
   "source": [
    "cluster = AgglomerativeClustering(n_clusters=5, linkage=\"average\")\n",
    "\n",
    "clusters = cluster.fit_predict(df)"
   ]
  },
  {
   "cell_type": "code",
   "execution_count": 38,
   "id": "de843f86-6191-41fa-b747-fcc637d9b97c",
   "metadata": {},
   "outputs": [
    {
     "data": {
      "text/plain": [
       "array([3, 2, 1, 0, 1, 1, 0, 0, 1, 3, 0, 4, 1, 0, 4, 0, 0, 3, 4, 1, 0, 1,\n",
       "       4, 3, 1, 4, 4, 1, 4, 0, 1, 1, 3, 4, 0, 0, 0, 0, 0, 3, 4, 3, 1, 0,\n",
       "       4, 0, 0, 4, 4, 0], dtype=int64)"
      ]
     },
     "execution_count": 38,
     "metadata": {},
     "output_type": "execute_result"
    }
   ],
   "source": [
    "clusters"
   ]
  },
  {
   "cell_type": "code",
   "execution_count": 39,
   "id": "99962c42-0d8d-4c02-8d0a-94c43d50506a",
   "metadata": {},
   "outputs": [],
   "source": [
    "## Let's IMPORT the dataframe and add the clusters numbers into it.\n",
    "\n",
    "df = pd.read_csv(\"datasets/USArrests.csv\", index_col=0)\n",
    "\n",
    "df[\"hi_cluster_no\"] = clusters"
   ]
  },
  {
   "cell_type": "code",
   "execution_count": 40,
   "id": "c7ac19ef-fc44-442f-a298-fc9b0d49fb58",
   "metadata": {},
   "outputs": [
    {
     "data": {
      "text/html": [
       "<div>\n",
       "<style scoped>\n",
       "    .dataframe tbody tr th:only-of-type {\n",
       "        vertical-align: middle;\n",
       "    }\n",
       "\n",
       "    .dataframe tbody tr th {\n",
       "        vertical-align: top;\n",
       "    }\n",
       "\n",
       "    .dataframe thead th {\n",
       "        text-align: right;\n",
       "    }\n",
       "</style>\n",
       "<table border=\"1\" class=\"dataframe\">\n",
       "  <thead>\n",
       "    <tr style=\"text-align: right;\">\n",
       "      <th></th>\n",
       "      <th>Murder</th>\n",
       "      <th>Assault</th>\n",
       "      <th>UrbanPop</th>\n",
       "      <th>Rape</th>\n",
       "      <th>hi_cluster_no</th>\n",
       "    </tr>\n",
       "  </thead>\n",
       "  <tbody>\n",
       "    <tr>\n",
       "      <th>Alabama</th>\n",
       "      <td>13.2</td>\n",
       "      <td>236</td>\n",
       "      <td>58</td>\n",
       "      <td>21.2</td>\n",
       "      <td>3</td>\n",
       "    </tr>\n",
       "    <tr>\n",
       "      <th>Alaska</th>\n",
       "      <td>10.0</td>\n",
       "      <td>263</td>\n",
       "      <td>48</td>\n",
       "      <td>44.5</td>\n",
       "      <td>2</td>\n",
       "    </tr>\n",
       "    <tr>\n",
       "      <th>Arizona</th>\n",
       "      <td>8.1</td>\n",
       "      <td>294</td>\n",
       "      <td>80</td>\n",
       "      <td>31.0</td>\n",
       "      <td>1</td>\n",
       "    </tr>\n",
       "    <tr>\n",
       "      <th>Arkansas</th>\n",
       "      <td>8.8</td>\n",
       "      <td>190</td>\n",
       "      <td>50</td>\n",
       "      <td>19.5</td>\n",
       "      <td>0</td>\n",
       "    </tr>\n",
       "    <tr>\n",
       "      <th>California</th>\n",
       "      <td>9.0</td>\n",
       "      <td>276</td>\n",
       "      <td>91</td>\n",
       "      <td>40.6</td>\n",
       "      <td>1</td>\n",
       "    </tr>\n",
       "  </tbody>\n",
       "</table>\n",
       "</div>"
      ],
      "text/plain": [
       "            Murder  Assault  UrbanPop  Rape  hi_cluster_no\n",
       "Alabama       13.2      236        58  21.2              3\n",
       "Alaska        10.0      263        48  44.5              2\n",
       "Arizona        8.1      294        80  31.0              1\n",
       "Arkansas       8.8      190        50  19.5              0\n",
       "California     9.0      276        91  40.6              1"
      ]
     },
     "execution_count": 40,
     "metadata": {},
     "output_type": "execute_result"
    }
   ],
   "source": [
    "df.head()"
   ]
  },
  {
   "cell_type": "code",
   "execution_count": 41,
   "id": "a7ffa8a2-657f-4994-b1ab-ce56b5e77156",
   "metadata": {},
   "outputs": [],
   "source": [
    "## Let's change the cluster number starting from 0\n",
    "\n",
    "df[\"hi_cluster_no\"] = df[\"hi_cluster_no\"] + 1"
   ]
  },
  {
   "cell_type": "code",
   "execution_count": 42,
   "id": "f3a259ba-040b-4ca8-8734-6222592e494e",
   "metadata": {},
   "outputs": [],
   "source": [
    "\n",
    "df[\"kmeans_cluster_no\"] = clusters_kmeans\n",
    "\n",
    "df[\"kmeans_cluster_no\"] = df[\"kmeans_cluster_no\"]  + 1"
   ]
  },
  {
   "cell_type": "code",
   "execution_count": 43,
   "id": "4122cf96-77ad-42d6-bf73-f83d268cc937",
   "metadata": {},
   "outputs": [
    {
     "data": {
      "text/html": [
       "<div>\n",
       "<style scoped>\n",
       "    .dataframe tbody tr th:only-of-type {\n",
       "        vertical-align: middle;\n",
       "    }\n",
       "\n",
       "    .dataframe tbody tr th {\n",
       "        vertical-align: top;\n",
       "    }\n",
       "\n",
       "    .dataframe thead th {\n",
       "        text-align: right;\n",
       "    }\n",
       "</style>\n",
       "<table border=\"1\" class=\"dataframe\">\n",
       "  <thead>\n",
       "    <tr style=\"text-align: right;\">\n",
       "      <th></th>\n",
       "      <th>Murder</th>\n",
       "      <th>Assault</th>\n",
       "      <th>UrbanPop</th>\n",
       "      <th>Rape</th>\n",
       "      <th>hi_cluster_no</th>\n",
       "      <th>kmeans_cluster_no</th>\n",
       "    </tr>\n",
       "  </thead>\n",
       "  <tbody>\n",
       "    <tr>\n",
       "      <th>Alabama</th>\n",
       "      <td>13.2</td>\n",
       "      <td>236</td>\n",
       "      <td>58</td>\n",
       "      <td>21.2</td>\n",
       "      <td>4</td>\n",
       "      <td>2</td>\n",
       "    </tr>\n",
       "    <tr>\n",
       "      <th>Alaska</th>\n",
       "      <td>10.0</td>\n",
       "      <td>263</td>\n",
       "      <td>48</td>\n",
       "      <td>44.5</td>\n",
       "      <td>3</td>\n",
       "      <td>5</td>\n",
       "    </tr>\n",
       "    <tr>\n",
       "      <th>Arizona</th>\n",
       "      <td>8.1</td>\n",
       "      <td>294</td>\n",
       "      <td>80</td>\n",
       "      <td>31.0</td>\n",
       "      <td>2</td>\n",
       "      <td>8</td>\n",
       "    </tr>\n",
       "    <tr>\n",
       "      <th>Arkansas</th>\n",
       "      <td>8.8</td>\n",
       "      <td>190</td>\n",
       "      <td>50</td>\n",
       "      <td>19.5</td>\n",
       "      <td>1</td>\n",
       "      <td>6</td>\n",
       "    </tr>\n",
       "    <tr>\n",
       "      <th>California</th>\n",
       "      <td>9.0</td>\n",
       "      <td>276</td>\n",
       "      <td>91</td>\n",
       "      <td>40.6</td>\n",
       "      <td>2</td>\n",
       "      <td>7</td>\n",
       "    </tr>\n",
       "  </tbody>\n",
       "</table>\n",
       "</div>"
      ],
      "text/plain": [
       "            Murder  Assault  UrbanPop  Rape  hi_cluster_no  kmeans_cluster_no\n",
       "Alabama       13.2      236        58  21.2              4                  2\n",
       "Alaska        10.0      263        48  44.5              3                  5\n",
       "Arizona        8.1      294        80  31.0              2                  8\n",
       "Arkansas       8.8      190        50  19.5              1                  6\n",
       "California     9.0      276        91  40.6              2                  7"
      ]
     },
     "execution_count": 43,
     "metadata": {},
     "output_type": "execute_result"
    }
   ],
   "source": [
    "df.head()"
   ]
  }
 ],
 "metadata": {
  "kernelspec": {
   "display_name": "Python 3 (ipykernel)",
   "language": "python",
   "name": "python3"
  },
  "language_info": {
   "codemirror_mode": {
    "name": "ipython",
    "version": 3
   },
   "file_extension": ".py",
   "mimetype": "text/x-python",
   "name": "python",
   "nbconvert_exporter": "python",
   "pygments_lexer": "ipython3",
   "version": "3.11.7"
  }
 },
 "nbformat": 4,
 "nbformat_minor": 5
}
